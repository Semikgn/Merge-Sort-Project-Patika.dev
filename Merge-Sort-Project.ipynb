{
 "cells": [
  {
   "cell_type": "code",
   "execution_count": null,
   "id": "cf4732e2-ecd9-497f-b49c-2952795930c8",
   "metadata": {},
   "outputs": [],
   "source": [
    "def main():\n",
    "    print(\"Örnek Merge Sort algoritması yorum satırındadır.\")\n",
    "\n",
    "#[16,21,11,8,12,22] -> Merge Sort \n",
    "\n",
    "#First split: [16,21,11] [8,12,22]\n",
    "#Second split: [16,21] [11] [8,12] [22]\n",
    "#Third split: [11,16,21] [8,12,22]\n",
    "\n",
    "#Sorted Array: [8, 11, 12, 16, 21, 22]\n",
    "\n",
    "#Big-O Notation: O(nlogn) -> For each case <-"
   ]
  }
 ],
 "metadata": {
  "kernelspec": {
   "display_name": "Python 3 (ipykernel)",
   "language": "python",
   "name": "python3"
  },
  "language_info": {
   "codemirror_mode": {
    "name": "ipython",
    "version": 3
   },
   "file_extension": ".py",
   "mimetype": "text/x-python",
   "name": "python",
   "nbconvert_exporter": "python",
   "pygments_lexer": "ipython3",
   "version": "3.13.0"
  }
 },
 "nbformat": 4,
 "nbformat_minor": 5
}
